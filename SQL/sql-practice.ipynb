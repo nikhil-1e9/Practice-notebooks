{
 "cells": [
  {
   "cell_type": "markdown",
   "id": "1ad07957",
   "metadata": {},
   "source": [
    "# SQL Practice\n",
    "\n",
    "Let's practice SQL through answering questions in this notebook"
   ]
  },
  {
   "cell_type": "markdown",
   "id": "liquid-banana",
   "metadata": {},
   "source": [
    "## SQLite and Initial Setup\n",
    "\n",
    "Relational databases generally have two components:\n",
    "\n",
    "1. **Database Server/Engine**: A software package that manages databases and runs in the background, listening for SQL queries from authorized users E.g. MySQL server, Microsoft SQL server, Postgres etc.\n",
    "2. **Database Client**: A command-line tool or graphical user interface (GUI) to connect to the database server and run SQL queries. E.g. MySQL workbench, PgAdmin etc.\n",
    "\n",
    "The server and client can be on the same computer e.g. both on your laptop, or on different computers e.g. the database server can be running on the cloud and you can connect to it using a client installed on your computer.\n",
    "\n",
    "Most database servers/engines are designed to operate on databases containing large amounts of data (e.g. 100s of GBs) and to handle a very high volume of queries (e.g. thousands of queries per second). They typically require powerful hardware i.e. multi-core CPUs and large amounts of RAM.\n",
    "\n",
    "\n",
    "<img src=\"https://www.sqlite.org/images/sqlite370_banner.gif\" width=\"240\" style=\"margin-left:0\">\n",
    "\n",
    "In this notebook, however, we'll use a lightweight database engine called [SQLite](https://www.sqlite.org/index.html), which is well-suited for databases with small amounts of data and has very limited CPU & RAM requirements. Despite being limited in its capabilities, it is the [most widely used database engine in the world](https://www.sqlite.org/mostdeployed.html). SQLite is used by smartphone apps, web browsers, desktop applications, IoT devices etc. to store and manage data locally on the device. \n",
    "\n",
    "If you're running this notebook locally, you'll need to [download and install `sqlite3`](https://www.servermania.com/kb/articles/install-sqlite/) on your computer. `sqlite3` is already installed on Binder. You can verify that you have `sqlite3` installed by running the following command to show the version of SQLite you have installed:"
   ]
  },
  {
   "cell_type": "code",
   "execution_count": 1,
   "id": "strategic-investigation",
   "metadata": {},
   "outputs": [
    {
     "name": "stdout",
     "output_type": "stream",
     "text": [
      "3.36.0 2021-06-18 18:36:39 5c9a6c06871cb9fe42814af9c039eb6da5427a6ec28f187af7ebfb62eafa66e5\r\n"
     ]
    }
   ],
   "source": [
    "!sqlite3 --version"
   ]
  },
  {
   "cell_type": "markdown",
   "id": "federal-lithuania",
   "metadata": {},
   "source": [
    "Unlike other relational databases, SQLite doesn't have separate server and client packages. The `sqlite3` command line tool is all your need to create and interact with SQLite databases. The databases themselves are stored as files with the extension `.sqlite`. You can perform CRUD operations on the database simply by passing SQL queries using `sqlite3`.\n",
    "\n",
    "Here's a visual representation of how SQLite differs from other relational database servers ([source](https://devopedia.org/sqlite)):\n",
    "\n",
    "<img src=\"https://i.imgur.com/eC5Ieni.png\" width=\"640\">\n",
    "\n",
    "\n",
    "Note that a `.sqlite` file is different from a `.sql` file, which contains commands for creating tables and inserting data. The `.sqlite` file is the actual database where the data is stored in a binary tabular format for efficient querying and manipulation.\n",
    "\n",
    "In this notebook, we'll use the [Chinook open source database](https://github.com/lerocha/chinook-database). Let's begin by downloading the `.sqlite` file for the database containing all the required tables and the sample data. "
   ]
  },
  {
   "cell_type": "code",
   "execution_count": 2,
   "id": "handy-property",
   "metadata": {},
   "outputs": [],
   "source": [
    "from urllib.request import urlretrieve"
   ]
  },
  {
   "cell_type": "code",
   "execution_count": 3,
   "id": "simple-editor",
   "metadata": {},
   "outputs": [],
   "source": [
    "db_url = 'https://github.com/lerocha/chinook-database/raw/master/ChinookDatabase/DataSources/Chinook_Sqlite.sqlite'"
   ]
  },
  {
   "cell_type": "code",
   "execution_count": 4,
   "id": "patient-college",
   "metadata": {},
   "outputs": [
    {
     "data": {
      "text/plain": [
       "('chinook.sqlite', <http.client.HTTPMessage at 0x7f91c8058a00>)"
      ]
     },
     "execution_count": 4,
     "metadata": {},
     "output_type": "execute_result"
    }
   ],
   "source": [
    "urlretrieve(db_url, 'chinook.sqlite')"
   ]
  },
  {
   "cell_type": "markdown",
   "id": "covered-grant",
   "metadata": {},
   "source": [
    "The database `chinook.sqlite` is now downloaded. To access and interact with the database by writing SQL queries directly within Jupyter, we'll use the [`ipython-sql`](https://pypi.org/project/ipython-sql/) library that provides the `%%sql` magic commands. It uses the [`sqlalchemy`](https://sqlalchemy.org) library behind the scenes to interact with the database."
   ]
  },
  {
   "cell_type": "code",
   "execution_count": 5,
   "id": "explicit-chapter",
   "metadata": {},
   "outputs": [],
   "source": [
    "!pip install ipython-sql --quiet --upgrade"
   ]
  },
  {
   "cell_type": "code",
   "execution_count": 6,
   "id": "5bf608f2",
   "metadata": {},
   "outputs": [],
   "source": [
    "!pip install sqlalchemy --quiet"
   ]
  },
  {
   "cell_type": "code",
   "execution_count": 7,
   "id": "whole-female",
   "metadata": {},
   "outputs": [],
   "source": [
    "%load_ext sql"
   ]
  },
  {
   "cell_type": "markdown",
   "id": "foster-mouse",
   "metadata": {},
   "source": [
    "We can now connect to the database using a [SQLAlchemy connection string](https://docs.sqlalchemy.org/en/14/core/engines.html). We'll use the `%%sql` Jupyter magic command."
   ]
  },
  {
   "cell_type": "code",
   "execution_count": 10,
   "id": "abstract-might",
   "metadata": {},
   "outputs": [],
   "source": [
    "%%sql \n",
    "\n",
    "sqlite:///chinook.sqlite"
   ]
  },
  {
   "cell_type": "markdown",
   "id": "frank-concern",
   "metadata": {},
   "source": [
    "We are now connected to the database and we can start writing SQL queries."
   ]
  },
  {
   "cell_type": "markdown",
   "id": "deadly-browser",
   "metadata": {},
   "source": [
    "## Chinook Database Structure and Queries\n",
    "\n",
    "The Chinook database represents a digital media store, including tables for artists, albums, media tracks, invoices and customers. Here's an [Entity Relationship Diagram](https://www.guru99.com/er-diagram-tutorial-dbms.html) (ERD) showing the structure of the Chinook database:\n",
    "\n",
    "![](https://i.imgur.com/X1wM142.png)\n",
    "\n",
    "Let's begin by looking at the data from some of the tables in the database. We can write SQL queries directly within Jupyter code cells by including the magic command `%%sql` as the first line of the cell, indicating that contents of cell represent a SQL query."
   ]
  },
  {
   "cell_type": "code",
   "execution_count": 11,
   "id": "geological-temperature",
   "metadata": {},
   "outputs": [
    {
     "name": "stdout",
     "output_type": "stream",
     "text": [
      "   sqlite://\n",
      " * sqlite:///chinook.sqlite\n",
      "Done.\n"
     ]
    },
    {
     "data": {
      "text/html": [
       "<table>\n",
       "    <tr>\n",
       "        <th>ArtistId</th>\n",
       "        <th>Name</th>\n",
       "    </tr>\n",
       "    <tr>\n",
       "        <td>1</td>\n",
       "        <td>AC/DC</td>\n",
       "    </tr>\n",
       "    <tr>\n",
       "        <td>2</td>\n",
       "        <td>Accept</td>\n",
       "    </tr>\n",
       "    <tr>\n",
       "        <td>3</td>\n",
       "        <td>Aerosmith</td>\n",
       "    </tr>\n",
       "    <tr>\n",
       "        <td>4</td>\n",
       "        <td>Alanis Morissette</td>\n",
       "    </tr>\n",
       "    <tr>\n",
       "        <td>5</td>\n",
       "        <td>Alice In Chains</td>\n",
       "    </tr>\n",
       "</table>"
      ],
      "text/plain": [
       "[(1, 'AC/DC'),\n",
       " (2, 'Accept'),\n",
       " (3, 'Aerosmith'),\n",
       " (4, 'Alanis Morissette'),\n",
       " (5, 'Alice In Chains')]"
      ]
     },
     "execution_count": 11,
     "metadata": {},
     "output_type": "execute_result"
    }
   ],
   "source": [
    "%%sql \n",
    "\n",
    "SELECT * \n",
    "FROM Artist \n",
    "LIMIT 5;"
   ]
  },
  {
   "cell_type": "code",
   "execution_count": 12,
   "id": "enclosed-amount",
   "metadata": {},
   "outputs": [
    {
     "name": "stdout",
     "output_type": "stream",
     "text": [
      "   sqlite://\n",
      " * sqlite:///chinook.sqlite\n",
      "Done.\n"
     ]
    },
    {
     "data": {
      "text/html": [
       "<table>\n",
       "    <tr>\n",
       "        <th>AlbumId</th>\n",
       "        <th>Title</th>\n",
       "        <th>ArtistId</th>\n",
       "    </tr>\n",
       "    <tr>\n",
       "        <td>1</td>\n",
       "        <td>For Those About To Rock We Salute You</td>\n",
       "        <td>1</td>\n",
       "    </tr>\n",
       "    <tr>\n",
       "        <td>2</td>\n",
       "        <td>Balls to the Wall</td>\n",
       "        <td>2</td>\n",
       "    </tr>\n",
       "    <tr>\n",
       "        <td>3</td>\n",
       "        <td>Restless and Wild</td>\n",
       "        <td>2</td>\n",
       "    </tr>\n",
       "    <tr>\n",
       "        <td>4</td>\n",
       "        <td>Let There Be Rock</td>\n",
       "        <td>1</td>\n",
       "    </tr>\n",
       "    <tr>\n",
       "        <td>5</td>\n",
       "        <td>Big Ones</td>\n",
       "        <td>3</td>\n",
       "    </tr>\n",
       "</table>"
      ],
      "text/plain": [
       "[(1, 'For Those About To Rock We Salute You', 1),\n",
       " (2, 'Balls to the Wall', 2),\n",
       " (3, 'Restless and Wild', 2),\n",
       " (4, 'Let There Be Rock', 1),\n",
       " (5, 'Big Ones', 3)]"
      ]
     },
     "execution_count": 12,
     "metadata": {},
     "output_type": "execute_result"
    }
   ],
   "source": [
    "%%sql \n",
    "\n",
    "SELECT * \n",
    "FROM Album \n",
    "LIMIT 5;"
   ]
  },
  {
   "cell_type": "markdown",
   "id": "nuclear-evanescence",
   "metadata": {},
   "source": [
    "## Selection and Ordering\n",
    "\n",
    "> **QUESTION 1**: Write a SQL query to sort the rows from the table `Track` in alphabetical order of Track name and display the first 10 rows."
   ]
  },
  {
   "cell_type": "code",
   "execution_count": 14,
   "id": "determined-diagnosis",
   "metadata": {},
   "outputs": [
    {
     "name": "stdout",
     "output_type": "stream",
     "text": [
      "   sqlite://\n",
      " * sqlite:///chinook.sqlite\n",
      "Done.\n"
     ]
    },
    {
     "data": {
      "text/html": [
       "<table>\n",
       "    <tr>\n",
       "        <th>TrackId</th>\n",
       "        <th>Name</th>\n",
       "        <th>AlbumId</th>\n",
       "        <th>MediaTypeId</th>\n",
       "        <th>GenreId</th>\n",
       "        <th>Composer</th>\n",
       "        <th>Milliseconds</th>\n",
       "        <th>Bytes</th>\n",
       "        <th>UnitPrice</th>\n",
       "    </tr>\n",
       "    <tr>\n",
       "        <td>3027</td>\n",
       "        <td>&quot;40&quot;</td>\n",
       "        <td>239</td>\n",
       "        <td>1</td>\n",
       "        <td>1</td>\n",
       "        <td>U2</td>\n",
       "        <td>157962</td>\n",
       "        <td>5251767</td>\n",
       "        <td>0.99</td>\n",
       "    </tr>\n",
       "    <tr>\n",
       "        <td>2918</td>\n",
       "        <td>&quot;?&quot;</td>\n",
       "        <td>231</td>\n",
       "        <td>3</td>\n",
       "        <td>19</td>\n",
       "        <td>None</td>\n",
       "        <td>2782333</td>\n",
       "        <td>528227089</td>\n",
       "        <td>1.99</td>\n",
       "    </tr>\n",
       "    <tr>\n",
       "        <td>3412</td>\n",
       "        <td>&quot;Eine Kleine Nachtmusik&quot; Serenade In G, K. 525: I. Allegro</td>\n",
       "        <td>281</td>\n",
       "        <td>2</td>\n",
       "        <td>24</td>\n",
       "        <td>Wolfgang Amadeus Mozart</td>\n",
       "        <td>348971</td>\n",
       "        <td>5760129</td>\n",
       "        <td>0.99</td>\n",
       "    </tr>\n",
       "    <tr>\n",
       "        <td>109</td>\n",
       "        <td>#1 Zero</td>\n",
       "        <td>11</td>\n",
       "        <td>1</td>\n",
       "        <td>4</td>\n",
       "        <td>Cornell, Commerford, Morello, Wilk</td>\n",
       "        <td>299102</td>\n",
       "        <td>9731988</td>\n",
       "        <td>0.99</td>\n",
       "    </tr>\n",
       "    <tr>\n",
       "        <td>3254</td>\n",
       "        <td>#9 Dream</td>\n",
       "        <td>255</td>\n",
       "        <td>2</td>\n",
       "        <td>9</td>\n",
       "        <td>None</td>\n",
       "        <td>278312</td>\n",
       "        <td>4506425</td>\n",
       "        <td>0.99</td>\n",
       "    </tr>\n",
       "    <tr>\n",
       "        <td>602</td>\n",
       "        <td>&#x27;Round Midnight</td>\n",
       "        <td>48</td>\n",
       "        <td>1</td>\n",
       "        <td>2</td>\n",
       "        <td>Miles Davis</td>\n",
       "        <td>357459</td>\n",
       "        <td>11590284</td>\n",
       "        <td>0.99</td>\n",
       "    </tr>\n",
       "    <tr>\n",
       "        <td>1833</td>\n",
       "        <td>(Anesthesia) Pulling Teeth</td>\n",
       "        <td>150</td>\n",
       "        <td>1</td>\n",
       "        <td>3</td>\n",
       "        <td>Cliff Burton</td>\n",
       "        <td>254955</td>\n",
       "        <td>8234710</td>\n",
       "        <td>0.99</td>\n",
       "    </tr>\n",
       "    <tr>\n",
       "        <td>570</td>\n",
       "        <td>(Da Le) Yaleo</td>\n",
       "        <td>46</td>\n",
       "        <td>1</td>\n",
       "        <td>1</td>\n",
       "        <td>Santana</td>\n",
       "        <td>353488</td>\n",
       "        <td>11769507</td>\n",
       "        <td>0.99</td>\n",
       "    </tr>\n",
       "    <tr>\n",
       "        <td>3045</td>\n",
       "        <td>(I Can&#x27;t Help) Falling In Love With You</td>\n",
       "        <td>241</td>\n",
       "        <td>1</td>\n",
       "        <td>8</td>\n",
       "        <td>None</td>\n",
       "        <td>207568</td>\n",
       "        <td>6905623</td>\n",
       "        <td>0.99</td>\n",
       "    </tr>\n",
       "    <tr>\n",
       "        <td>3057</td>\n",
       "        <td>(Oh) Pretty Woman</td>\n",
       "        <td>242</td>\n",
       "        <td>1</td>\n",
       "        <td>1</td>\n",
       "        <td>Bill Dees/Roy Orbison</td>\n",
       "        <td>174680</td>\n",
       "        <td>5665828</td>\n",
       "        <td>0.99</td>\n",
       "    </tr>\n",
       "</table>"
      ],
      "text/plain": [
       "[(3027, '\"40\"', 239, 1, 1, 'U2', 157962, 5251767, 0.99),\n",
       " (2918, '\"?\"', 231, 3, 19, None, 2782333, 528227089, 1.99),\n",
       " (3412, '\"Eine Kleine Nachtmusik\" Serenade In G, K. 525: I. Allegro', 281, 2, 24, 'Wolfgang Amadeus Mozart', 348971, 5760129, 0.99),\n",
       " (109, '#1 Zero', 11, 1, 4, 'Cornell, Commerford, Morello, Wilk', 299102, 9731988, 0.99),\n",
       " (3254, '#9 Dream', 255, 2, 9, None, 278312, 4506425, 0.99),\n",
       " (602, \"'Round Midnight\", 48, 1, 2, 'Miles Davis', 357459, 11590284, 0.99),\n",
       " (1833, '(Anesthesia) Pulling Teeth', 150, 1, 3, 'Cliff Burton', 254955, 8234710, 0.99),\n",
       " (570, '(Da Le) Yaleo', 46, 1, 1, 'Santana', 353488, 11769507, 0.99),\n",
       " (3045, \"(I Can't Help) Falling In Love With You\", 241, 1, 8, None, 207568, 6905623, 0.99),\n",
       " (3057, '(Oh) Pretty Woman', 242, 1, 1, 'Bill Dees/Roy Orbison', 174680, 5665828, 0.99)]"
      ]
     },
     "execution_count": 14,
     "metadata": {},
     "output_type": "execute_result"
    }
   ],
   "source": [
    "%%sql\n",
    "\n",
    "SELECT *\n",
    "FROM Track\n",
    "ORDER BY Name\n",
    "LIMIT 10;"
   ]
  },
  {
   "cell_type": "code",
   "execution_count": 19,
   "id": "friendly-piano",
   "metadata": {
    "code_folding": []
   },
   "outputs": [],
   "source": [
    "ans1 = _\n",
    "# print(ans1)"
   ]
  },
  {
   "cell_type": "markdown",
   "id": "pointed-ceiling",
   "metadata": {},
   "source": [
    "> **QUESTION 1.1**: Write a SQL query to show the _next 10_ rows based on the above criteria."
   ]
  },
  {
   "cell_type": "code",
   "execution_count": 25,
   "id": "broadband-subsection",
   "metadata": {},
   "outputs": [
    {
     "name": "stdout",
     "output_type": "stream",
     "text": [
      "   sqlite://\n",
      " * sqlite:///chinook.sqlite\n",
      "Done.\n"
     ]
    },
    {
     "data": {
      "text/html": [
       "<table>\n",
       "    <tr>\n",
       "        <th>TrackId</th>\n",
       "        <th>Name</th>\n",
       "        <th>AlbumId</th>\n",
       "        <th>MediaTypeId</th>\n",
       "        <th>GenreId</th>\n",
       "        <th>Composer</th>\n",
       "        <th>Milliseconds</th>\n",
       "        <th>Bytes</th>\n",
       "        <th>UnitPrice</th>\n",
       "    </tr>\n",
       "    <tr>\n",
       "        <td>3471</td>\n",
       "        <td>(There Is) No Greater Love (Teo Licks)</td>\n",
       "        <td>322</td>\n",
       "        <td>2</td>\n",
       "        <td>9</td>\n",
       "        <td>Isham Jones &amp; Marty Symes</td>\n",
       "        <td>167933</td>\n",
       "        <td>2773507</td>\n",
       "        <td>0.99</td>\n",
       "    </tr>\n",
       "    <tr>\n",
       "        <td>1947</td>\n",
       "        <td>(We Are) The Road Crew</td>\n",
       "        <td>160</td>\n",
       "        <td>1</td>\n",
       "        <td>3</td>\n",
       "        <td>Clarke/Kilmister/Taylor</td>\n",
       "        <td>192600</td>\n",
       "        <td>6283035</td>\n",
       "        <td>0.99</td>\n",
       "    </tr>\n",
       "    <tr>\n",
       "        <td>2595</td>\n",
       "        <td>(White Man) In Hammersmith Palais</td>\n",
       "        <td>211</td>\n",
       "        <td>1</td>\n",
       "        <td>4</td>\n",
       "        <td>Joe Strummer/Mick Jones</td>\n",
       "        <td>240640</td>\n",
       "        <td>7883532</td>\n",
       "        <td>0.99</td>\n",
       "    </tr>\n",
       "    <tr>\n",
       "        <td>709</td>\n",
       "        <td>(Wish I Could) Hideaway</td>\n",
       "        <td>55</td>\n",
       "        <td>1</td>\n",
       "        <td>1</td>\n",
       "        <td>J.C. Fogerty</td>\n",
       "        <td>228466</td>\n",
       "        <td>7432978</td>\n",
       "        <td>0.99</td>\n",
       "    </tr>\n",
       "    <tr>\n",
       "        <td>2869</td>\n",
       "        <td>...And Found</td>\n",
       "        <td>231</td>\n",
       "        <td>3</td>\n",
       "        <td>19</td>\n",
       "        <td>None</td>\n",
       "        <td>2563833</td>\n",
       "        <td>500330548</td>\n",
       "        <td>1.99</td>\n",
       "    </tr>\n",
       "    <tr>\n",
       "        <td>1894</td>\n",
       "        <td>...And Justice For All</td>\n",
       "        <td>156</td>\n",
       "        <td>1</td>\n",
       "        <td>3</td>\n",
       "        <td>James Hetfield, Lars Ulrich &amp; Kirk Hammett</td>\n",
       "        <td>585769</td>\n",
       "        <td>19262088</td>\n",
       "        <td>0.99</td>\n",
       "    </tr>\n",
       "    <tr>\n",
       "        <td>2906</td>\n",
       "        <td>...In Translation</td>\n",
       "        <td>230</td>\n",
       "        <td>3</td>\n",
       "        <td>19</td>\n",
       "        <td>None</td>\n",
       "        <td>2604575</td>\n",
       "        <td>215441983</td>\n",
       "        <td>1.99</td>\n",
       "    </tr>\n",
       "    <tr>\n",
       "        <td>3166</td>\n",
       "        <td>.07%</td>\n",
       "        <td>228</td>\n",
       "        <td>3</td>\n",
       "        <td>21</td>\n",
       "        <td>None</td>\n",
       "        <td>2585794</td>\n",
       "        <td>541715199</td>\n",
       "        <td>1.99</td>\n",
       "    </tr>\n",
       "    <tr>\n",
       "        <td>1268</td>\n",
       "        <td>01 - Prowler</td>\n",
       "        <td>100</td>\n",
       "        <td>1</td>\n",
       "        <td>6</td>\n",
       "        <td>Steve Harris</td>\n",
       "        <td>236173</td>\n",
       "        <td>5668992</td>\n",
       "        <td>0.99</td>\n",
       "    </tr>\n",
       "    <tr>\n",
       "        <td>1269</td>\n",
       "        <td>02 - Sanctuary</td>\n",
       "        <td>100</td>\n",
       "        <td>1</td>\n",
       "        <td>6</td>\n",
       "        <td>David Murray/Paul Di&#x27;Anno/Steve Harris</td>\n",
       "        <td>196284</td>\n",
       "        <td>4712576</td>\n",
       "        <td>0.99</td>\n",
       "    </tr>\n",
       "</table>"
      ],
      "text/plain": [
       "[(3471, '(There Is) No Greater Love (Teo Licks)', 322, 2, 9, 'Isham Jones & Marty Symes', 167933, 2773507, 0.99),\n",
       " (1947, '(We Are) The Road Crew', 160, 1, 3, 'Clarke/Kilmister/Taylor', 192600, 6283035, 0.99),\n",
       " (2595, '(White Man) In Hammersmith Palais', 211, 1, 4, 'Joe Strummer/Mick Jones', 240640, 7883532, 0.99),\n",
       " (709, '(Wish I Could) Hideaway', 55, 1, 1, 'J.C. Fogerty', 228466, 7432978, 0.99),\n",
       " (2869, '...And Found', 231, 3, 19, None, 2563833, 500330548, 1.99),\n",
       " (1894, '...And Justice For All', 156, 1, 3, 'James Hetfield, Lars Ulrich & Kirk Hammett', 585769, 19262088, 0.99),\n",
       " (2906, '...In Translation', 230, 3, 19, None, 2604575, 215441983, 1.99),\n",
       " (3166, '.07%', 228, 3, 21, None, 2585794, 541715199, 1.99),\n",
       " (1268, '01 - Prowler', 100, 1, 6, 'Steve Harris', 236173, 5668992, 0.99),\n",
       " (1269, '02 - Sanctuary', 100, 1, 6, \"David Murray/Paul Di'Anno/Steve Harris\", 196284, 4712576, 0.99)]"
      ]
     },
     "execution_count": 25,
     "metadata": {},
     "output_type": "execute_result"
    }
   ],
   "source": [
    "%%sql\n",
    "\n",
    "SELECT *\n",
    "FROM Track\n",
    "ORDER BY Name\n",
    "LIMIT 10, 10;"
   ]
  },
  {
   "cell_type": "markdown",
   "id": "tamil-shelter",
   "metadata": {},
   "source": [
    "> **QUESTION 1.2:** Write some SQL queries in the cells below to explore the first few rows of each table in the database."
   ]
  },
  {
   "cell_type": "code",
   "execution_count": 31,
   "id": "respective-passport",
   "metadata": {},
   "outputs": [],
   "source": [
    "from sqlalchemy import create_engine\n",
    "engine = create_engine(\"sqlite:///chinook.sqlite\")"
   ]
  },
  {
   "cell_type": "code",
   "execution_count": 103,
   "id": "established-rebate",
   "metadata": {},
   "outputs": [
    {
     "name": "stdout",
     "output_type": "stream",
     "text": [
      "Album\n",
      "Artist\n",
      "Customer\n",
      "Employee\n",
      "Genre\n",
      "Invoice\n",
      "InvoiceLine\n",
      "MediaType\n",
      "Playlist\n",
      "PlaylistTrack\n",
      "Track\n",
      "\n",
      "Total tables in the database: 11\n"
     ]
    }
   ],
   "source": [
    "from sqlalchemy import inspect\n",
    "inspector = inspect(engine)\n",
    "\n",
    "for i, table_name in enumerate(inspector.get_table_names()):\n",
    "    print(table_name)  \n",
    "print(\"\\nTotal tables in the database:\", i+1)"
   ]
  },
  {
   "cell_type": "markdown",
   "id": "quality-addiction",
   "metadata": {},
   "source": [
    "## Counting\n",
    "\n",
    "> **QUESTION 2**: Write a SQL query to calculate the total number of employees working at Chinook."
   ]
  },
  {
   "cell_type": "code",
   "execution_count": 58,
   "id": "5485da3c",
   "metadata": {},
   "outputs": [
    {
     "name": "stdout",
     "output_type": "stream",
     "text": [
      "   sqlite://\n",
      " * sqlite:///chinook.sqlite\n",
      "Done.\n"
     ]
    },
    {
     "data": {
      "text/html": [
       "<table>\n",
       "    <tr>\n",
       "        <th>total_employees</th>\n",
       "    </tr>\n",
       "    <tr>\n",
       "        <td>8</td>\n",
       "    </tr>\n",
       "</table>"
      ],
      "text/plain": [
       "[(8,)]"
      ]
     },
     "execution_count": 58,
     "metadata": {},
     "output_type": "execute_result"
    }
   ],
   "source": [
    "%%sql\n",
    "\n",
    "SELECT COUNT(DISTINCT FirstName) AS total_employees\n",
    "FROM Employee;"
   ]
  },
  {
   "cell_type": "code",
   "execution_count": 59,
   "id": "superior-thirty",
   "metadata": {},
   "outputs": [
    {
     "name": "stdout",
     "output_type": "stream",
     "text": [
      "+-----------------+\n",
      "| total_employees |\n",
      "+-----------------+\n",
      "|        8        |\n",
      "+-----------------+\n"
     ]
    }
   ],
   "source": [
    "ans2 = _\n",
    "print(ans2)"
   ]
  },
  {
   "cell_type": "markdown",
   "id": "confident-blake",
   "metadata": {},
   "source": [
    "> **QUESTION 2.1**: Write SQL queries to calculate the total number of customers, total number of artists and total number of tracks in the database."
   ]
  },
  {
   "cell_type": "code",
   "execution_count": 99,
   "id": "expensive-hamilton",
   "metadata": {},
   "outputs": [
    {
     "name": "stdout",
     "output_type": "stream",
     "text": [
      "   sqlite://\n",
      " * sqlite:///chinook.sqlite\n",
      "Done.\n"
     ]
    },
    {
     "data": {
      "text/html": [
       "<table>\n",
       "    <tr>\n",
       "        <th>Total_customers</th>\n",
       "    </tr>\n",
       "    <tr>\n",
       "        <td>59</td>\n",
       "    </tr>\n",
       "</table>"
      ],
      "text/plain": [
       "[(59,)]"
      ]
     },
     "execution_count": 99,
     "metadata": {},
     "output_type": "execute_result"
    }
   ],
   "source": [
    "%%sql\n",
    "SELECT COUNT(DISTINCT CustomerID) AS Total_customers\n",
    "FROM Customer;"
   ]
  },
  {
   "cell_type": "code",
   "execution_count": 100,
   "id": "egyptian-mountain",
   "metadata": {},
   "outputs": [
    {
     "name": "stdout",
     "output_type": "stream",
     "text": [
      "   sqlite://\n",
      " * sqlite:///chinook.sqlite\n",
      "Done.\n"
     ]
    },
    {
     "data": {
      "text/html": [
       "<table>\n",
       "    <tr>\n",
       "        <th>Total_artists</th>\n",
       "    </tr>\n",
       "    <tr>\n",
       "        <td>275</td>\n",
       "    </tr>\n",
       "</table>"
      ],
      "text/plain": [
       "[(275,)]"
      ]
     },
     "execution_count": 100,
     "metadata": {},
     "output_type": "execute_result"
    }
   ],
   "source": [
    "%%sql\n",
    "SELECT COUNT(DISTINCT ArtistID) AS Total_artists\n",
    "FROM Artist;"
   ]
  },
  {
   "cell_type": "code",
   "execution_count": 101,
   "id": "joined-sculpture",
   "metadata": {},
   "outputs": [
    {
     "name": "stdout",
     "output_type": "stream",
     "text": [
      "   sqlite://\n",
      " * sqlite:///chinook.sqlite\n",
      "Done.\n"
     ]
    },
    {
     "data": {
      "text/html": [
       "<table>\n",
       "    <tr>\n",
       "        <th>Total_tracks</th>\n",
       "    </tr>\n",
       "    <tr>\n",
       "        <td>3503</td>\n",
       "    </tr>\n",
       "</table>"
      ],
      "text/plain": [
       "[(3503,)]"
      ]
     },
     "execution_count": 101,
     "metadata": {},
     "output_type": "execute_result"
    }
   ],
   "source": [
    "%%sql\n",
    "SELECT COUNT(DISTINCT TrackID) AS Total_tracks\n",
    "FROM Track;"
   ]
  },
  {
   "cell_type": "code",
   "execution_count": null,
   "id": "72b2588d",
   "metadata": {},
   "outputs": [],
   "source": []
  },
  {
   "cell_type": "markdown",
   "id": "nonprofit-induction",
   "metadata": {},
   "source": [
    "## Aggregation and Grouping\n",
    "\n",
    "> **QUESTION 3**: Write a SQL query to show the top 10 albums with the highest number of tracks. The result should contain 2 columns: album ID and number of tracks in the album (name the column \"Tracks\"). Here are the first few rows of the result:\n",
    "> <img src=\"https://i.imgur.com/0vGhVMZ.png\" width=\"120\">"
   ]
  },
  {
   "cell_type": "code",
   "execution_count": 77,
   "id": "breeding-boring",
   "metadata": {},
   "outputs": [
    {
     "name": "stdout",
     "output_type": "stream",
     "text": [
      "   sqlite://\n",
      " * sqlite:///chinook.sqlite\n",
      "Done.\n"
     ]
    },
    {
     "data": {
      "text/html": [
       "<table>\n",
       "    <tr>\n",
       "        <th>AlbumId</th>\n",
       "        <th>Tracks</th>\n",
       "    </tr>\n",
       "    <tr>\n",
       "        <td>141</td>\n",
       "        <td>57</td>\n",
       "    </tr>\n",
       "    <tr>\n",
       "        <td>23</td>\n",
       "        <td>34</td>\n",
       "    </tr>\n",
       "    <tr>\n",
       "        <td>73</td>\n",
       "        <td>30</td>\n",
       "    </tr>\n",
       "    <tr>\n",
       "        <td>229</td>\n",
       "        <td>26</td>\n",
       "    </tr>\n",
       "    <tr>\n",
       "        <td>230</td>\n",
       "        <td>25</td>\n",
       "    </tr>\n",
       "    <tr>\n",
       "        <td>251</td>\n",
       "        <td>25</td>\n",
       "    </tr>\n",
       "    <tr>\n",
       "        <td>83</td>\n",
       "        <td>24</td>\n",
       "    </tr>\n",
       "    <tr>\n",
       "        <td>231</td>\n",
       "        <td>24</td>\n",
       "    </tr>\n",
       "    <tr>\n",
       "        <td>253</td>\n",
       "        <td>24</td>\n",
       "    </tr>\n",
       "    <tr>\n",
       "        <td>24</td>\n",
       "        <td>23</td>\n",
       "    </tr>\n",
       "</table>"
      ],
      "text/plain": [
       "[(141, 57),\n",
       " (23, 34),\n",
       " (73, 30),\n",
       " (229, 26),\n",
       " (230, 25),\n",
       " (251, 25),\n",
       " (83, 24),\n",
       " (231, 24),\n",
       " (253, 24),\n",
       " (24, 23)]"
      ]
     },
     "execution_count": 77,
     "metadata": {},
     "output_type": "execute_result"
    }
   ],
   "source": [
    "%%sql\n",
    "\n",
    "SELECT AlbumId, COUNT(DISTINCT TrackId) AS Tracks\n",
    "FROM track\n",
    "GROUP BY AlbumId\n",
    "ORDER BY Tracks DESC\n",
    "LIMIT 10;"
   ]
  },
  {
   "cell_type": "code",
   "execution_count": 78,
   "id": "earned-neighbor",
   "metadata": {},
   "outputs": [],
   "source": [
    "ans3 = _"
   ]
  },
  {
   "cell_type": "markdown",
   "id": "celtic-grenada",
   "metadata": {},
   "source": [
    "> **QUESTION 3.1**: Improve the above query to also show the album name, artist ID and artist name."
   ]
  },
  {
   "cell_type": "code",
   "execution_count": 106,
   "id": "facial-nomination",
   "metadata": {},
   "outputs": [
    {
     "name": "stdout",
     "output_type": "stream",
     "text": [
      "   sqlite://\n",
      " * sqlite:///chinook.sqlite\n",
      "Done.\n"
     ]
    },
    {
     "data": {
      "text/html": [
       "<table>\n",
       "    <tr>\n",
       "        <th>AlbumId</th>\n",
       "        <th>Name</th>\n",
       "        <th>ArtistId</th>\n",
       "        <th>Artist</th>\n",
       "        <th>Tracks</th>\n",
       "    </tr>\n",
       "    <tr>\n",
       "        <td>141</td>\n",
       "        <td>Are You Gonna Go My Way</td>\n",
       "        <td>100</td>\n",
       "        <td>Lenny Kravitz</td>\n",
       "        <td>57</td>\n",
       "    </tr>\n",
       "    <tr>\n",
       "        <td>23</td>\n",
       "        <td>Carolina</td>\n",
       "        <td>17</td>\n",
       "        <td>Chico Buarque</td>\n",
       "        <td>34</td>\n",
       "    </tr>\n",
       "    <tr>\n",
       "        <td>73</td>\n",
       "        <td>Signe</td>\n",
       "        <td>81</td>\n",
       "        <td>Eric Clapton</td>\n",
       "        <td>30</td>\n",
       "    </tr>\n",
       "    <tr>\n",
       "        <td>229</td>\n",
       "        <td>A Tale of Two Cities</td>\n",
       "        <td>149</td>\n",
       "        <td>Lost</td>\n",
       "        <td>26</td>\n",
       "    </tr>\n",
       "    <tr>\n",
       "        <td>230</td>\n",
       "        <td>Lost (Pilot, Part 1) [Premiere]</td>\n",
       "        <td>149</td>\n",
       "        <td>Lost</td>\n",
       "        <td>25</td>\n",
       "    </tr>\n",
       "    <tr>\n",
       "        <td>251</td>\n",
       "        <td>Gay Witch Hunt</td>\n",
       "        <td>156</td>\n",
       "        <td>The Office</td>\n",
       "        <td>25</td>\n",
       "    </tr>\n",
       "    <tr>\n",
       "        <td>83</td>\n",
       "        <td>My Way</td>\n",
       "        <td>85</td>\n",
       "        <td>Frank Sinatra</td>\n",
       "        <td>24</td>\n",
       "    </tr>\n",
       "    <tr>\n",
       "        <td>231</td>\n",
       "        <td>Man of Science, Man of Faith (Premiere)</td>\n",
       "        <td>149</td>\n",
       "        <td>Lost</td>\n",
       "        <td>24</td>\n",
       "    </tr>\n",
       "    <tr>\n",
       "        <td>253</td>\n",
       "        <td>Battlestar Galactica, Pt. 1</td>\n",
       "        <td>158</td>\n",
       "        <td>Battlestar Galactica (Classic)</td>\n",
       "        <td>24</td>\n",
       "    </tr>\n",
       "    <tr>\n",
       "        <td>24</td>\n",
       "        <td>Mateus Enter</td>\n",
       "        <td>18</td>\n",
       "        <td>Chico Science &amp; Nação Zumbi</td>\n",
       "        <td>23</td>\n",
       "    </tr>\n",
       "</table>"
      ],
      "text/plain": [
       "[(141, 'Are You Gonna Go My Way', 100, 'Lenny Kravitz', 57),\n",
       " (23, 'Carolina', 17, 'Chico Buarque', 34),\n",
       " (73, 'Signe', 81, 'Eric Clapton', 30),\n",
       " (229, 'A Tale of Two Cities', 149, 'Lost', 26),\n",
       " (230, 'Lost (Pilot, Part 1) [Premiere]', 149, 'Lost', 25),\n",
       " (251, 'Gay Witch Hunt', 156, 'The Office', 25),\n",
       " (83, 'My Way', 85, 'Frank Sinatra', 24),\n",
       " (231, 'Man of Science, Man of Faith (Premiere)', 149, 'Lost', 24),\n",
       " (253, 'Battlestar Galactica, Pt. 1', 158, 'Battlestar Galactica (Classic)', 24),\n",
       " (24, 'Mateus Enter', 18, 'Chico Science & Nação Zumbi', 23)]"
      ]
     },
     "execution_count": 106,
     "metadata": {},
     "output_type": "execute_result"
    }
   ],
   "source": [
    "%%sql\n",
    "\n",
    "SELECT t.AlbumId, t.Name, al.ArtistId, ar.Name AS Artist, COUNT(DISTINCT t.TrackId) AS Tracks\n",
    "FROM Track AS t\n",
    "JOIN Album AS al\n",
    "ON t.AlbumId = al.AlbumId\n",
    "JOIN Artist AS ar\n",
    "ON al.ArtistId = ar.ArtistId\n",
    "GROUP BY t.AlbumId\n",
    "ORDER BY Tracks DESC\n",
    "LIMIT 10;"
   ]
  },
  {
   "cell_type": "markdown",
   "id": "incomplete-phone",
   "metadata": {},
   "source": [
    "> **QUESTION 3.2**: List the top 10 artists with the highest number of tracks."
   ]
  },
  {
   "cell_type": "code",
   "execution_count": 113,
   "id": "3e4f1e94",
   "metadata": {},
   "outputs": [
    {
     "name": "stdout",
     "output_type": "stream",
     "text": [
      "   sqlite://\n",
      " * sqlite:///chinook.sqlite\n",
      "Done.\n"
     ]
    },
    {
     "data": {
      "text/html": [
       "<table>\n",
       "    <tr>\n",
       "        <th>ArtistId</th>\n",
       "        <th>Artist</th>\n",
       "        <th>Tracks</th>\n",
       "    </tr>\n",
       "    <tr>\n",
       "        <td>90</td>\n",
       "        <td>Iron Maiden</td>\n",
       "        <td>213</td>\n",
       "    </tr>\n",
       "    <tr>\n",
       "        <td>150</td>\n",
       "        <td>U2</td>\n",
       "        <td>135</td>\n",
       "    </tr>\n",
       "    <tr>\n",
       "        <td>22</td>\n",
       "        <td>Led Zeppelin</td>\n",
       "        <td>114</td>\n",
       "    </tr>\n",
       "    <tr>\n",
       "        <td>50</td>\n",
       "        <td>Metallica</td>\n",
       "        <td>112</td>\n",
       "    </tr>\n",
       "    <tr>\n",
       "        <td>149</td>\n",
       "        <td>Lost</td>\n",
       "        <td>92</td>\n",
       "    </tr>\n",
       "    <tr>\n",
       "        <td>58</td>\n",
       "        <td>Deep Purple</td>\n",
       "        <td>92</td>\n",
       "    </tr>\n",
       "    <tr>\n",
       "        <td>118</td>\n",
       "        <td>Pearl Jam</td>\n",
       "        <td>67</td>\n",
       "    </tr>\n",
       "    <tr>\n",
       "        <td>100</td>\n",
       "        <td>Lenny Kravitz</td>\n",
       "        <td>57</td>\n",
       "    </tr>\n",
       "    <tr>\n",
       "        <td>21</td>\n",
       "        <td>Various Artists</td>\n",
       "        <td>56</td>\n",
       "    </tr>\n",
       "    <tr>\n",
       "        <td>156</td>\n",
       "        <td>The Office</td>\n",
       "        <td>53</td>\n",
       "    </tr>\n",
       "</table>"
      ],
      "text/plain": [
       "[(90, 'Iron Maiden', 213),\n",
       " (150, 'U2', 135),\n",
       " (22, 'Led Zeppelin', 114),\n",
       " (50, 'Metallica', 112),\n",
       " (149, 'Lost', 92),\n",
       " (58, 'Deep Purple', 92),\n",
       " (118, 'Pearl Jam', 67),\n",
       " (100, 'Lenny Kravitz', 57),\n",
       " (21, 'Various Artists', 56),\n",
       " (156, 'The Office', 53)]"
      ]
     },
     "execution_count": 113,
     "metadata": {},
     "output_type": "execute_result"
    }
   ],
   "source": [
    "%%sql\n",
    "\n",
    "SELECT al.ArtistId, ar.Name AS Artist, COUNT(DISTINCT t.TrackId) AS Tracks\n",
    "FROM Track AS t\n",
    "JOIN Album AS al\n",
    "ON t.AlbumId = al.AlbumId\n",
    "JOIN Artist AS ar\n",
    "ON al.ArtistId = ar.ArtistId\n",
    "GROUP BY ar.ArtistId\n",
    "ORDER BY Tracks DESC\n",
    "LIMIT 10;"
   ]
  },
  {
   "cell_type": "code",
   "execution_count": null,
   "id": "565eba8c",
   "metadata": {},
   "outputs": [],
   "source": []
  },
  {
   "cell_type": "markdown",
   "id": "logical-province",
   "metadata": {},
   "source": [
    "## Functions and Joins\n",
    "\n",
    "> **QUESTION 4**: Show a list of the top 10 customer with the highest total spend in 2012. Calculate the total amount spent by each customer by adding the totals from all their invoices in the year 2012. Order the list by the invoice total (decreasing order). The result should contain the rows CustomerId, FirstName, LastName and TotalSpend. Here are the first few rows of the result:\n",
    "> <img src=\"https://i.imgur.com/rayPKc3.png\" width=\"480\">\n",
    ">\n",
    ">\n",
    "> *Note*: SQLite doesn't support the `YEAR` function. Instead use `strftime(\"%Y\", Invoice.InvoiceDate)` to extract the year from the column `InvoiceDate` as a string. [Learn more.](https://www.w3resource.com/sqlite/sqlite-strftime.php)\n",
    ">\n",
    "> _Hint_: First try to write down a step-by-step solution to the problem in plain English, and then try to convert it to a SQL query. Use the empty cells below to experiment with intermediate queries."
   ]
  },
  {
   "cell_type": "code",
   "execution_count": null,
   "id": "qualified-trick",
   "metadata": {},
   "outputs": [],
   "source": [
    "%%sql\n",
    "\n",
    "???"
   ]
  },
  {
   "cell_type": "code",
   "execution_count": null,
   "id": "homeless-cursor",
   "metadata": {},
   "outputs": [],
   "source": [
    "# DON'T MODIFY OR MOVE THIS CELL! IT IS USED FOR EVALUATION.\n",
    "ans4 = _"
   ]
  },
  {
   "cell_type": "code",
   "execution_count": null,
   "id": "distant-planner",
   "metadata": {},
   "outputs": [],
   "source": []
  },
  {
   "cell_type": "code",
   "execution_count": null,
   "id": "cooperative-television",
   "metadata": {},
   "outputs": [],
   "source": []
  },
  {
   "cell_type": "markdown",
   "id": "antique-mauritius",
   "metadata": {},
   "source": [
    "Let's save our work before continuing."
   ]
  },
  {
   "cell_type": "code",
   "execution_count": null,
   "id": "speaking-google",
   "metadata": {},
   "outputs": [],
   "source": [
    "jovian.commit()"
   ]
  },
  {
   "cell_type": "markdown",
   "id": "offensive-disability",
   "metadata": {},
   "source": [
    "## Joins and Arithmetic Operations\n",
    "\n",
    "> **QUESTION 5**: Write a SQL query to show the total number of albums and the average number of tracks per album for every artist. The result should include the artist ID, artist's name, total albums (name the column \"Albums\") and average tracks per album (name the column \"TracksPerAlbum\"). Sort the results in alphabetical order of artist name. Here are the first few rows of the result:\n",
    ">\n",
    "> <img src=\"https://i.imgur.com/WAE7oOx.png\" width=\"640\">\n",
    "> \n",
    "> *Hint*: While dividing two integers, multiply one of the numbers by 1.0 to convert them into floats. [Learn more.](https://stackoverflow.com/questions/8305613/converting-int-to-real-in-sqlite)"
   ]
  },
  {
   "cell_type": "code",
   "execution_count": null,
   "id": "together-final",
   "metadata": {},
   "outputs": [],
   "source": [
    "%%sql\n",
    "\n",
    "???"
   ]
  },
  {
   "cell_type": "code",
   "execution_count": null,
   "id": "silent-lyric",
   "metadata": {},
   "outputs": [],
   "source": [
    "# DON'T MODIFY OR MOVE THIS CELL! IT IS USED FOR EVALUATION.\n",
    "ans5 = _"
   ]
  },
  {
   "cell_type": "code",
   "execution_count": null,
   "id": "christian-liechtenstein",
   "metadata": {},
   "outputs": [],
   "source": []
  },
  {
   "cell_type": "code",
   "execution_count": null,
   "id": "aware-credit",
   "metadata": {},
   "outputs": [],
   "source": []
  },
  {
   "cell_type": "markdown",
   "id": "deadly-calculation",
   "metadata": {},
   "source": [
    "Let's save our work before continuing."
   ]
  },
  {
   "cell_type": "code",
   "execution_count": null,
   "id": "acoustic-apollo",
   "metadata": {},
   "outputs": [],
   "source": [
    "jovian.commit()"
   ]
  },
  {
   "cell_type": "markdown",
   "id": "welsh-opinion",
   "metadata": {},
   "source": [
    "(OPTIONAL) Write a SQL query to display the top 10 highest grossing tracks in 2012. The result should contain the track ID, track name, number of units sold, and the total revenue from the track in 2012. *Hint*: Use the `InvoiceLine` table."
   ]
  },
  {
   "cell_type": "code",
   "execution_count": null,
   "id": "induced-leisure",
   "metadata": {},
   "outputs": [],
   "source": []
  },
  {
   "cell_type": "code",
   "execution_count": null,
   "id": "governing-affair",
   "metadata": {},
   "outputs": [],
   "source": []
  },
  {
   "cell_type": "code",
   "execution_count": null,
   "id": "pretty-greensboro",
   "metadata": {},
   "outputs": [],
   "source": []
  },
  {
   "cell_type": "markdown",
   "id": "bearing-semester",
   "metadata": {},
   "source": [
    "Let's save our work before continuing."
   ]
  },
  {
   "cell_type": "code",
   "execution_count": null,
   "id": "strong-devices",
   "metadata": {},
   "outputs": [],
   "source": [
    "jovian.commit()"
   ]
  },
  {
   "cell_type": "markdown",
   "id": "derived-shape",
   "metadata": {},
   "source": [
    "## Joining Multiple Tables\n",
    "\n",
    "> **QUESTION 6:** Show the following information for all the tracks by the Artist \"Metallica\": Track ID, Track Name, Album Title, Artist Name, Composer, Media Type, Genre and track length in milliseconds. Order the tracks in alphabetical order of album names.\n",
    "> \n",
    "> Here are the first few rows of the expected result:\n",
    ">\n",
    "> <img src=\"https://i.imgur.com/Ovhm9Nh.png\" width=\"640\">"
   ]
  },
  {
   "cell_type": "code",
   "execution_count": null,
   "id": "suited-tender",
   "metadata": {},
   "outputs": [],
   "source": [
    "%%sql\n",
    "\n",
    "???"
   ]
  },
  {
   "cell_type": "code",
   "execution_count": null,
   "id": "meaningful-surgeon",
   "metadata": {},
   "outputs": [],
   "source": [
    "# DON'T MODIFY OR MOVE THIS CELL! IT IS USED FOR EVALUATION.\n",
    "ans6 = _"
   ]
  },
  {
   "cell_type": "markdown",
   "id": "knowing-feelings",
   "metadata": {},
   "source": [
    "(OPTIONAL) Modify the above query to show the length of each track in the \"MM:SS\" format i.e. \"03:15\". Enter the updated query in the empty cell below."
   ]
  },
  {
   "cell_type": "code",
   "execution_count": null,
   "id": "bearing-iraqi",
   "metadata": {},
   "outputs": [],
   "source": []
  },
  {
   "cell_type": "markdown",
   "id": "steady-redhead",
   "metadata": {},
   "source": [
    "(OPTIONAL) Modify the above query to include the total revenue from the sales of each track. Enter the updated query in the empty cell below."
   ]
  },
  {
   "cell_type": "code",
   "execution_count": null,
   "id": "expected-scratch",
   "metadata": {},
   "outputs": [],
   "source": []
  },
  {
   "cell_type": "markdown",
   "id": "endangered-horse",
   "metadata": {},
   "source": [
    "Let's save our work before continuing."
   ]
  },
  {
   "cell_type": "code",
   "execution_count": null,
   "id": "framed-fountain",
   "metadata": {},
   "outputs": [],
   "source": [
    "jovian.commit()"
   ]
  },
  {
   "cell_type": "markdown",
   "id": "declared-detroit",
   "metadata": {},
   "source": [
    "## Table Creation  and Foreign Keys"
   ]
  },
  {
   "cell_type": "markdown",
   "id": "selected-browser",
   "metadata": {},
   "source": [
    "> **QUESTION 7**: Create a new table `HallOfFame` to track the list of artists who have been added into the Chinook Hall of Fame. The table should contain three columns: \n",
    ">\n",
    "> 1. `HallOfFameId` (int): Primary key with [Auto Increment](https://www.sqlite.org/autoinc.html)\n",
    "> 2. `ArtistId` (int): Foreign key (from the Artist table)\n",
    "> 3. `YearAdded` (int): The year the artist was added to the hall of fame \n",
    ">\n",
    "> Once created, add 5 entries to the table (any artists of your choice)."
   ]
  },
  {
   "cell_type": "code",
   "execution_count": null,
   "id": "nasty-intent",
   "metadata": {},
   "outputs": [],
   "source": [
    "%%sql\n",
    "\n",
    "???"
   ]
  },
  {
   "cell_type": "code",
   "execution_count": null,
   "id": "infectious-justice",
   "metadata": {},
   "outputs": [],
   "source": [
    "%%sql\n",
    "\n",
    "???"
   ]
  },
  {
   "cell_type": "code",
   "execution_count": null,
   "id": "increasing-isolation",
   "metadata": {},
   "outputs": [],
   "source": []
  },
  {
   "cell_type": "code",
   "execution_count": null,
   "id": "allied-bubble",
   "metadata": {},
   "outputs": [],
   "source": []
  },
  {
   "cell_type": "markdown",
   "id": "through-approval",
   "metadata": {},
   "source": [
    "Once the table is created and records have been inserted, you can view the list of artists in the hall of fame using the following query."
   ]
  },
  {
   "cell_type": "code",
   "execution_count": null,
   "id": "chicken-vertical",
   "metadata": {},
   "outputs": [],
   "source": [
    "%%sql\n",
    "\n",
    "SELECT * FROM HallOfFame JOIN Artist ON HallOfFame.ArtistId=Artist.ArtistId"
   ]
  },
  {
   "cell_type": "code",
   "execution_count": null,
   "id": "strange-potential",
   "metadata": {},
   "outputs": [],
   "source": [
    "# DON'T MODIFY OR MOVE THIS CELL! IT IS USED FOR EVALUATION.\n",
    "ans7 = _"
   ]
  },
  {
   "cell_type": "markdown",
   "id": "alone-bridges",
   "metadata": {},
   "source": [
    "Let's save our work before continuing."
   ]
  },
  {
   "cell_type": "code",
   "execution_count": null,
   "id": "interstate-given",
   "metadata": {},
   "outputs": [],
   "source": [
    "jovian.commit()"
   ]
  },
  {
   "cell_type": "markdown",
   "id": "existing-supervision",
   "metadata": {},
   "source": [
    "## Inserting Data into Tables\n",
    "\n",
    "> **QUESTION 8**: Write SQL queries to insert the following records into the database:\n",
    "> \n",
    "> 1. A new artist called \"Linkin Park\"\n",
    "> 2. Two new albums for the artist Linkin Park:\n",
    ">     1. Hybrid Theory\n",
    ">     2. Meteora\n",
    "> 3. Six new tracks (come up with sensible values for columns like Composer, Milliseconds etc.):\n",
    ">     1. Papercut (in the album Hybrid Theory)\n",
    ">     2. In The End (in the album Hybrid Theory)\n",
    ">     3. Crawling (in the album Hybrid Theory)\n",
    ">     4. Somewhere I Belong (in the album Meteora)\n",
    ">     5. Numb (in the album Meteora)\n",
    ">     6. Breaking the Habit (in the album Meteora)\n",
    ">\n",
    "> *Hint*: You need not provide a value for the ID (primary key) columns while inserting these rows, because the ID columns are marked as [AUTO INCREMENT](https://www.sqlite.org/autoinc.html) and will automatically be assigned the next available numeric value."
   ]
  },
  {
   "cell_type": "markdown",
   "id": "hollywood-extra",
   "metadata": {},
   "source": [
    "Here's the query to insert a new artist:"
   ]
  },
  {
   "cell_type": "code",
   "execution_count": null,
   "id": "aggregate-composite",
   "metadata": {},
   "outputs": [],
   "source": [
    "%%sql\n",
    "\n",
    "INSERT INTO Artist (Name) VALUES (\"Linkin Park\")"
   ]
  },
  {
   "cell_type": "markdown",
   "id": "wireless-comparative",
   "metadata": {},
   "source": [
    "Write the query to insert the new albums below:"
   ]
  },
  {
   "cell_type": "code",
   "execution_count": null,
   "id": "strong-plant",
   "metadata": {},
   "outputs": [],
   "source": [
    "%%sql\n",
    "\n",
    "???"
   ]
  },
  {
   "cell_type": "markdown",
   "id": "dental-cabin",
   "metadata": {},
   "source": [
    "Write the query to insert the new tracks below:"
   ]
  },
  {
   "cell_type": "code",
   "execution_count": null,
   "id": "linear-transportation",
   "metadata": {},
   "outputs": [],
   "source": [
    "%%sql\n",
    "\n",
    "???"
   ]
  },
  {
   "cell_type": "code",
   "execution_count": null,
   "id": "annoying-bulgarian",
   "metadata": {},
   "outputs": [],
   "source": []
  },
  {
   "cell_type": "code",
   "execution_count": null,
   "id": "characteristic-exposure",
   "metadata": {},
   "outputs": [],
   "source": []
  },
  {
   "cell_type": "code",
   "execution_count": null,
   "id": "three-toddler",
   "metadata": {},
   "outputs": [],
   "source": []
  },
  {
   "cell_type": "markdown",
   "id": "executive-investment",
   "metadata": {},
   "source": [
    "Make sure to insert exactly one copy of each of the above records. If you've inserted multiple copies, delete the extra rows before submitting.\n",
    "\n",
    "If the records were inserted properly, you should be able to retrieve them back using the following queries."
   ]
  },
  {
   "cell_type": "code",
   "execution_count": null,
   "id": "different-future",
   "metadata": {},
   "outputs": [],
   "source": [
    "%%sql\n",
    "\n",
    "SELECT * FROM Artist WHERE Name=\"Linkin Park\""
   ]
  },
  {
   "cell_type": "code",
   "execution_count": null,
   "id": "traditional-provincial",
   "metadata": {},
   "outputs": [],
   "source": [
    "# DON'T MODIFY OR MOVE THIS CELL! IT IS USED FOR EVALUATION.\n",
    "ans8a = _"
   ]
  },
  {
   "cell_type": "code",
   "execution_count": null,
   "id": "nearby-insurance",
   "metadata": {},
   "outputs": [],
   "source": [
    "%%sql\n",
    "\n",
    "SELECT * FROM Album JOIN Artist on Album.ArtistId=Artist.ArtistId WHERE Artist.Name=\"Linkin Park\""
   ]
  },
  {
   "cell_type": "code",
   "execution_count": null,
   "id": "outside-pearl",
   "metadata": {},
   "outputs": [],
   "source": [
    "# DON'T MODIFY OR MOVE THIS CELL! IT IS USED FOR EVALUATION.\n",
    "ans8b = _"
   ]
  },
  {
   "cell_type": "code",
   "execution_count": null,
   "id": "early-evaluation",
   "metadata": {},
   "outputs": [],
   "source": [
    "%%sql\n",
    "\n",
    "SELECT * \n",
    "    FROM Track JOIN Album\n",
    "    ON Track.AlbumId=Album.AlbumId\n",
    "    JOIN Artist\n",
    "    ON Album.ArtistId=Artist.ArtistId \n",
    "    WHERE Artist.Name=\"Linkin Park\""
   ]
  },
  {
   "cell_type": "code",
   "execution_count": null,
   "id": "phantom-yorkshire",
   "metadata": {},
   "outputs": [],
   "source": [
    "# DON'T MODIFY OR MOVE THIS CELL! IT IS USED FOR EVALUATION.\n",
    "ans8c = _"
   ]
  },
  {
   "cell_type": "code",
   "execution_count": null,
   "id": "involved-report",
   "metadata": {},
   "outputs": [],
   "source": []
  },
  {
   "cell_type": "code",
   "execution_count": null,
   "id": "outstanding-location",
   "metadata": {},
   "outputs": [],
   "source": []
  },
  {
   "cell_type": "markdown",
   "id": "atlantic-sigma",
   "metadata": {},
   "source": [
    "Let's save our work before continuing. Press `cntrl/cmd + s` to save your work."
   ]
  },
  {
   "cell_type": "markdown",
   "id": "3f0810a9",
   "metadata": {},
   "source": [
    "## LeetCode Problems"
   ]
  },
  {
   "cell_type": "markdown",
   "id": "0c1c94dc",
   "metadata": {},
   "source": [
    "### Question 9\n",
    "\n",
    "[Problem 171](https://leetcode.com/problems/excel-sheet-column-number/) - Excel Sheet Column Number\n",
    "Given a string `columnTitle` that represents the column title as appears in an Excel sheet, return its corresponding column number."
   ]
  },
  {
   "cell_type": "markdown",
   "id": "2194e21c",
   "metadata": {},
   "source": [
    "For example:\n",
    "```\n",
    "A -> 1\n",
    "B -> 2\n",
    "C -> 3\n",
    "...\n",
    "Z -> 26\n",
    "AA -> 27\n",
    "AB -> 28 \n",
    "...\n",
    "```\n",
    "Example 1:\n",
    "```\n",
    "Input: columnTitle = \"A\"\n",
    "Output: 1\n",
    "```\n",
    "Example 2:\n",
    "```\n",
    "Input: columnTitle = \"AB\"\n",
    "Output: 28\n",
    "Example 3:\n",
    "\n",
    "Input: columnTitle = \"ZY\"\n",
    "Output: 701\n",
    "```\n",
    "Constraints:\n",
    "```\n",
    "1 <= columnTitle.length <= 7\n",
    "columnTitle consists only of uppercase English letters.\n",
    "columnTitle is in the range [\"A\", \"FXSHRXW\"].\n",
    "```"
   ]
  },
  {
   "cell_type": "code",
   "execution_count": 1,
   "id": "a4e9ed55",
   "metadata": {},
   "outputs": [],
   "source": [
    "def titleToNumber(columnTitle):\n",
    "    ???"
   ]
  },
  {
   "cell_type": "code",
   "execution_count": null,
   "id": "6f199b49",
   "metadata": {},
   "outputs": [],
   "source": [
    "# This should return \"True\"\n",
    "titleToNumber(\"A\") == 1"
   ]
  },
  {
   "cell_type": "code",
   "execution_count": null,
   "id": "49eaf5c6",
   "metadata": {},
   "outputs": [],
   "source": [
    "# This should return \"True\"\n",
    "titleToNumber(\"AB\") == 28"
   ]
  },
  {
   "cell_type": "code",
   "execution_count": null,
   "id": "45c83738",
   "metadata": {},
   "outputs": [],
   "source": [
    "# This should return \"True\"\n",
    "titleToNumber(\"ZY\") == 701"
   ]
  },
  {
   "cell_type": "markdown",
   "id": "136d8630",
   "metadata": {},
   "source": [
    "### Question 10\n",
    "\n",
    "[Problem 859](https://leetcode.com/problems/buddy-strings/) - Buddy Strings\n",
    "\n",
    "Given two strings `s` and `goal`, return `true` if you can swap two letters in `s` so the result is equal to `goal`, otherwise, return `false`.\n",
    "\n",
    "Swapping letters is defined as taking two indices `i` and `j` (0-indexed) such that `i != j` and swapping the characters at `s[i]` and `s[j]`."
   ]
  },
  {
   "cell_type": "markdown",
   "id": "cb64fcc3",
   "metadata": {},
   "source": [
    "For example, swapping at indices `0` and `2` in `\"abcd\"` results in `\"cbad\"`.\n",
    " \n",
    "\n",
    "Example 1:\n",
    "```\n",
    "Input: s = \"ab\", goal = \"ba\"\n",
    "Output: true\n",
    "Explanation: You can swap s[0] = 'a' and s[1] = 'b' to get \"ba\", which is equal to goal.\n",
    "```\n",
    "Example 2:\n",
    "```\n",
    "Input: s = \"ab\", goal = \"ab\"\n",
    "Output: false\n",
    "Explanation: The only letters you can swap are s[0] = 'a' and s[1] = 'b', which results in \"ba\" != goal.\n",
    "```\n",
    "Example 3:\n",
    "```\n",
    "Input: s = \"aa\", goal = \"aa\"\n",
    "Output: true\n",
    "Explanation: You can swap s[0] = 'a' and s[1] = 'a' to get \"aa\", which is equal to goal.\n",
    "```\n",
    "\n",
    "Constraints:\n",
    "```\n",
    "1 <= s.length, goal.length <= 2 * 104\n",
    "s and goal consist of lowercase letters.\n",
    "```"
   ]
  },
  {
   "cell_type": "code",
   "execution_count": 2,
   "id": "9d406b9d",
   "metadata": {},
   "outputs": [],
   "source": [
    "def buddyStrings(s, goal):\n",
    "    ???"
   ]
  },
  {
   "cell_type": "code",
   "execution_count": null,
   "id": "ae36939d",
   "metadata": {},
   "outputs": [],
   "source": [
    "# This should return \"True\"\n",
    "buddyStrings(\"ab\",\"ba\") == True"
   ]
  },
  {
   "cell_type": "code",
   "execution_count": null,
   "id": "cbd22531",
   "metadata": {},
   "outputs": [],
   "source": [
    "# This should return \"True\"\n",
    "buddyStrings(\"ab\",\"ab\") == False"
   ]
  },
  {
   "cell_type": "code",
   "execution_count": null,
   "id": "65105ef6",
   "metadata": {},
   "outputs": [],
   "source": [
    "# This should return \"True\"\n",
    "buddyStrings(\"aa\",\"aa\") == True"
   ]
  },
  {
   "cell_type": "markdown",
   "id": "indonesian-dealer",
   "metadata": {},
   "source": [
    "## Make a Submission\n",
    "\n",
    "To make a submission, you can submit your Jovian notebook link on the assignment 'submit' page."
   ]
  },
  {
   "cell_type": "markdown",
   "id": "toxic-checkout",
   "metadata": {},
   "source": [
    "You can make any number of submissions. Only your final submission will be considered for grading.\n",
    "\n",
    "Here are some more optional questions you can try solving: https://github.com/LucasMcL/15-sql_queries_02-chinook"
   ]
  }
 ],
 "metadata": {
  "language_info": {
   "codemirror_mode": {
    "name": "ipython",
    "version": 3
   },
   "file_extension": ".py",
   "mimetype": "text/x-python",
   "name": "python",
   "nbconvert_exporter": "python",
   "pygments_lexer": "ipython3",
   "version": "3.9.7"
  }
 },
 "nbformat": 4,
 "nbformat_minor": 5
}
