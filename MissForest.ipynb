{
 "cells": [
  {
   "cell_type": "code",
   "execution_count": 1,
   "id": "ed09ed40",
   "metadata": {},
   "outputs": [
    {
     "name": "stdout",
     "output_type": "stream",
     "text": [
      "Collecting missingpy\n",
      "  Downloading missingpy-0.2.0-py3-none-any.whl (49 kB)\n",
      "                                              0.0/49.1 kB ? eta -:--:--\n",
      "     ---------------------------------------- 49.1/49.1 kB 2.6 MB/s eta 0:00:00\n",
      "Installing collected packages: missingpy\n",
      "Successfully installed missingpy-0.2.0\n",
      "Note: you may need to restart the kernel to use updated packages.\n"
     ]
    }
   ],
   "source": [
    "# !pip install missingpy"
   ]
  },
  {
   "cell_type": "code",
   "execution_count": 8,
   "id": "87d20786",
   "metadata": {},
   "outputs": [
    {
     "ename": "ModuleNotFoundError",
     "evalue": "No module named 'sklearn.neighbors.base'",
     "output_type": "error",
     "traceback": [
      "\u001b[1;31m---------------------------------------------------------------------------\u001b[0m",
      "\u001b[1;31mModuleNotFoundError\u001b[0m                       Traceback (most recent call last)",
      "Cell \u001b[1;32mIn[8], line 2\u001b[0m\n\u001b[0;32m      1\u001b[0m \u001b[38;5;66;03m# Let X be an array containing missing values\u001b[39;00m\n\u001b[1;32m----> 2\u001b[0m \u001b[38;5;28;01mfrom\u001b[39;00m \u001b[38;5;21;01mmissingpy\u001b[39;00m \u001b[38;5;28;01mimport\u001b[39;00m MissForest\n\u001b[0;32m      3\u001b[0m \u001b[38;5;28;01mfrom\u001b[39;00m \u001b[38;5;21;01mmissingpy\u001b[39;00m \u001b[38;5;28;01mimport\u001b[39;00m KNNImputer\n\u001b[0;32m      4\u001b[0m nan \u001b[38;5;241m=\u001b[39m \u001b[38;5;28mfloat\u001b[39m(\u001b[38;5;124m\"\u001b[39m\u001b[38;5;124mNaN\u001b[39m\u001b[38;5;124m\"\u001b[39m)\n",
      "File \u001b[1;32m~\\anaconda3\\lib\\site-packages\\missingpy\\__init__.py:1\u001b[0m\n\u001b[1;32m----> 1\u001b[0m \u001b[38;5;28;01mfrom\u001b[39;00m \u001b[38;5;21;01m.\u001b[39;00m\u001b[38;5;21;01mknnimpute\u001b[39;00m \u001b[38;5;28;01mimport\u001b[39;00m KNNImputer\n\u001b[0;32m      2\u001b[0m \u001b[38;5;28;01mfrom\u001b[39;00m \u001b[38;5;21;01m.\u001b[39;00m\u001b[38;5;21;01mmissforest\u001b[39;00m \u001b[38;5;28;01mimport\u001b[39;00m MissForest\n\u001b[0;32m      4\u001b[0m __all__ \u001b[38;5;241m=\u001b[39m [\u001b[38;5;124m'\u001b[39m\u001b[38;5;124mKNNImputer\u001b[39m\u001b[38;5;124m'\u001b[39m, \u001b[38;5;124m'\u001b[39m\u001b[38;5;124mMissForest\u001b[39m\u001b[38;5;124m'\u001b[39m]\n",
      "File \u001b[1;32m~\\anaconda3\\lib\\site-packages\\missingpy\\knnimpute.py:13\u001b[0m\n\u001b[0;32m     11\u001b[0m \u001b[38;5;28;01mfrom\u001b[39;00m \u001b[38;5;21;01msklearn\u001b[39;00m\u001b[38;5;21;01m.\u001b[39;00m\u001b[38;5;21;01mutils\u001b[39;00m\u001b[38;5;21;01m.\u001b[39;00m\u001b[38;5;21;01mvalidation\u001b[39;00m \u001b[38;5;28;01mimport\u001b[39;00m check_is_fitted\n\u001b[0;32m     12\u001b[0m \u001b[38;5;28;01mfrom\u001b[39;00m \u001b[38;5;21;01msklearn\u001b[39;00m\u001b[38;5;21;01m.\u001b[39;00m\u001b[38;5;21;01mutils\u001b[39;00m\u001b[38;5;21;01m.\u001b[39;00m\u001b[38;5;21;01mvalidation\u001b[39;00m \u001b[38;5;28;01mimport\u001b[39;00m FLOAT_DTYPES\n\u001b[1;32m---> 13\u001b[0m \u001b[38;5;28;01mfrom\u001b[39;00m \u001b[38;5;21;01msklearn\u001b[39;00m\u001b[38;5;21;01m.\u001b[39;00m\u001b[38;5;21;01mneighbors\u001b[39;00m\u001b[38;5;21;01m.\u001b[39;00m\u001b[38;5;21;01mbase\u001b[39;00m \u001b[38;5;28;01mimport\u001b[39;00m _check_weights\n\u001b[0;32m     14\u001b[0m \u001b[38;5;28;01mfrom\u001b[39;00m \u001b[38;5;21;01msklearn\u001b[39;00m\u001b[38;5;21;01m.\u001b[39;00m\u001b[38;5;21;01mneighbors\u001b[39;00m\u001b[38;5;21;01m.\u001b[39;00m\u001b[38;5;21;01mbase\u001b[39;00m \u001b[38;5;28;01mimport\u001b[39;00m _get_weights\n\u001b[0;32m     16\u001b[0m \u001b[38;5;28;01mfrom\u001b[39;00m \u001b[38;5;21;01m.\u001b[39;00m\u001b[38;5;21;01mpairwise_external\u001b[39;00m \u001b[38;5;28;01mimport\u001b[39;00m pairwise_distances\n",
      "\u001b[1;31mModuleNotFoundError\u001b[0m: No module named 'sklearn.neighbors.base'"
     ]
    }
   ],
   "source": [
    "# Let X be an array containing missing values\n",
    "from missingpy import MissForest\n",
    "from missingpy import KNNImputer\n",
    "nan = float(\"NaN\")\n",
    "X = [[1, 2, nan], [3, 4, 3], [nan, 6, 5], [8, 8, 7]]\n",
    "imputer = MissForest()\n",
    "X_imputed = imputer.fit_transform(X)"
   ]
  },
  {
   "cell_type": "code",
   "execution_count": 6,
   "id": "a1c8ddd8",
   "metadata": {},
   "outputs": [
    {
     "name": "stdout",
     "output_type": "stream",
     "text": [
      "Requirement already satisfied: scikit-learn in c:\\users\\relat\\anaconda3\\lib\\site-packages (1.2.2)\n",
      "Collecting scikit-learn\n",
      "  Downloading scikit_learn-1.3.0-cp39-cp39-win_amd64.whl (9.3 MB)\n",
      "                                              0.0/9.3 MB ? eta -:--:--\n",
      "                                              0.1/9.3 MB 3.2 MB/s eta 0:00:03\n",
      "     -                                        0.3/9.3 MB 3.3 MB/s eta 0:00:03\n",
      "     -                                        0.5/9.3 MB 3.5 MB/s eta 0:00:03\n",
      "     --                                       0.6/9.3 MB 3.7 MB/s eta 0:00:03\n",
      "     ---                                      0.8/9.3 MB 3.5 MB/s eta 0:00:03\n",
      "     ---                                      0.9/9.3 MB 3.3 MB/s eta 0:00:03\n",
      "     ----                                     0.9/9.3 MB 3.0 MB/s eta 0:00:03\n",
      "     ----                                     0.9/9.3 MB 3.0 MB/s eta 0:00:03\n",
      "     ----                                     1.0/9.3 MB 2.5 MB/s eta 0:00:04\n",
      "     ----                                     1.1/9.3 MB 2.4 MB/s eta 0:00:04\n",
      "     ----                                     1.1/9.3 MB 2.3 MB/s eta 0:00:04\n",
      "     -----                                    1.2/9.3 MB 2.2 MB/s eta 0:00:04\n",
      "     -----                                    1.2/9.3 MB 2.1 MB/s eta 0:00:04\n",
      "     -----                                    1.3/9.3 MB 2.0 MB/s eta 0:00:04\n",
      "     -----                                    1.4/9.3 MB 2.0 MB/s eta 0:00:04\n",
      "     ------                                   1.4/9.3 MB 2.0 MB/s eta 0:00:05\n",
      "     ------                                   1.5/9.3 MB 1.9 MB/s eta 0:00:05\n",
      "     ------                                   1.6/9.3 MB 1.9 MB/s eta 0:00:05\n",
      "     -------                                  1.7/9.3 MB 1.9 MB/s eta 0:00:05\n",
      "     -------                                  1.7/9.3 MB 1.9 MB/s eta 0:00:04\n",
      "     -------                                  1.9/9.3 MB 1.9 MB/s eta 0:00:04\n",
      "     --------                                 2.0/9.3 MB 2.0 MB/s eta 0:00:04\n",
      "     --------                                 2.1/9.3 MB 2.0 MB/s eta 0:00:04\n",
      "     ---------                                2.2/9.3 MB 2.0 MB/s eta 0:00:04\n",
      "     ----------                               2.4/9.3 MB 2.1 MB/s eta 0:00:04\n",
      "     ----------                               2.5/9.3 MB 2.1 MB/s eta 0:00:04\n",
      "     -----------                              2.7/9.3 MB 2.2 MB/s eta 0:00:04\n",
      "     ------------                             2.8/9.3 MB 2.3 MB/s eta 0:00:03\n",
      "     ------------                             3.0/9.3 MB 2.3 MB/s eta 0:00:03\n",
      "     -------------                            3.1/9.3 MB 2.3 MB/s eta 0:00:03\n",
      "     --------------                           3.3/9.3 MB 2.4 MB/s eta 0:00:03\n",
      "     ---------------                          3.5/9.3 MB 2.4 MB/s eta 0:00:03\n",
      "     ----------------                         3.7/9.3 MB 2.5 MB/s eta 0:00:03\n",
      "     ----------------                         3.9/9.3 MB 2.6 MB/s eta 0:00:03\n",
      "     -----------------                        4.2/9.3 MB 2.7 MB/s eta 0:00:02\n",
      "     ------------------                       4.4/9.3 MB 2.7 MB/s eta 0:00:02\n",
      "     --------------------                     4.7/9.3 MB 2.8 MB/s eta 0:00:02\n",
      "     --------------------                     4.9/9.3 MB 2.9 MB/s eta 0:00:02\n",
      "     ---------------------                    5.1/9.3 MB 2.9 MB/s eta 0:00:02\n",
      "     -----------------------                  5.4/9.3 MB 3.0 MB/s eta 0:00:02\n",
      "     ------------------------                 5.6/9.3 MB 3.1 MB/s eta 0:00:02\n",
      "     -------------------------                5.9/9.3 MB 3.2 MB/s eta 0:00:02\n",
      "     --------------------------               6.2/9.3 MB 3.3 MB/s eta 0:00:01\n",
      "     ---------------------------              6.5/9.3 MB 3.3 MB/s eta 0:00:01\n",
      "     -----------------------------            6.8/9.3 MB 3.4 MB/s eta 0:00:01\n",
      "     ------------------------------           7.0/9.3 MB 3.4 MB/s eta 0:00:01\n",
      "     -------------------------------          7.3/9.3 MB 3.5 MB/s eta 0:00:01\n",
      "     --------------------------------         7.6/9.3 MB 3.5 MB/s eta 0:00:01\n",
      "     ---------------------------------        7.8/9.3 MB 3.6 MB/s eta 0:00:01\n",
      "     ----------------------------------       8.0/9.3 MB 3.6 MB/s eta 0:00:01\n",
      "     -----------------------------------      8.4/9.3 MB 3.7 MB/s eta 0:00:01\n",
      "     -------------------------------------    8.7/9.3 MB 3.7 MB/s eta 0:00:01\n",
      "     --------------------------------------   9.1/9.3 MB 3.8 MB/s eta 0:00:01\n",
      "     ---------------------------------------  9.3/9.3 MB 3.8 MB/s eta 0:00:01\n",
      "     ---------------------------------------- 9.3/9.3 MB 3.8 MB/s eta 0:00:00\n",
      "Requirement already satisfied: numpy>=1.17.3 in c:\\users\\relat\\anaconda3\\lib\\site-packages (from scikit-learn) (1.24.3)\n",
      "Requirement already satisfied: scipy>=1.5.0 in c:\\users\\relat\\anaconda3\\lib\\site-packages (from scikit-learn) (1.10.1)\n",
      "Requirement already satisfied: joblib>=1.1.1 in c:\\users\\relat\\anaconda3\\lib\\site-packages (from scikit-learn) (1.2.0)\n",
      "Requirement already satisfied: threadpoolctl>=2.0.0 in c:\\users\\relat\\anaconda3\\lib\\site-packages (from scikit-learn) (2.2.0)\n",
      "Installing collected packages: scikit-learn\n",
      "  Attempting uninstall: scikit-learn\n",
      "    Found existing installation: scikit-learn 1.2.2\n",
      "    Uninstalling scikit-learn-1.2.2:\n",
      "      Successfully uninstalled scikit-learn-1.2.2\n",
      "Successfully installed scikit-learn-1.3.0\n"
     ]
    }
   ],
   "source": [
    "!pip install scikit-learn --upgrade"
   ]
  },
  {
   "cell_type": "code",
   "execution_count": null,
   "id": "54e73175",
   "metadata": {},
   "outputs": [],
   "source": []
  }
 ],
 "metadata": {
  "kernelspec": {
   "display_name": "Python 3 (ipykernel)",
   "language": "python",
   "name": "python3"
  },
  "language_info": {
   "codemirror_mode": {
    "name": "ipython",
    "version": 3
   },
   "file_extension": ".py",
   "mimetype": "text/x-python",
   "name": "python",
   "nbconvert_exporter": "python",
   "pygments_lexer": "ipython3",
   "version": "3.9.13"
  }
 },
 "nbformat": 4,
 "nbformat_minor": 5
}
